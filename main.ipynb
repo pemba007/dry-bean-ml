{
  "nbformat": 4,
  "nbformat_minor": 0,
  "metadata": {
    "colab": {
      "name": "main.ipynb",
      "provenance": [],
      "authorship_tag": "ABX9TyNoxt0ojlkP9evRDwyLo2xL",
      "include_colab_link": true
    },
    "kernelspec": {
      "name": "python3",
      "display_name": "Python 3"
    },
    "language_info": {
      "name": "python"
    }
  },
  "cells": [
    {
      "cell_type": "markdown",
      "metadata": {
        "id": "view-in-github",
        "colab_type": "text"
      },
      "source": [
        "<a href=\"https://colab.research.google.com/github/pemba007/dry-bean-ml/blob/main/main.ipynb\" target=\"_parent\"><img src=\"https://colab.research.google.com/assets/colab-badge.svg\" alt=\"Open In Colab\"/></a>"
      ]
    },
    {
      "cell_type": "code",
      "source": [
        "# Installing required packages if required\n",
        "# !pip install scikit-plot\n",
        "# !pip install hmmlearn\n",
        "# !pip install sequentia"
      ],
      "metadata": {
        "id": "vrJo7mh1DJ65"
      },
      "execution_count": 525,
      "outputs": []
    },
    {
      "cell_type": "code",
      "source": [
        "# Ignoring warnings\n",
        "import warnings\n",
        "warnings.filterwarnings(action='ignore')"
      ],
      "metadata": {
        "id": "eTnq4NqieHx0"
      },
      "execution_count": 526,
      "outputs": []
    },
    {
      "cell_type": "code",
      "execution_count": 527,
      "metadata": {
        "id": "jFdf9IT6o0mO"
      },
      "outputs": [],
      "source": [
        "# Importing libraries\n",
        "import numpy as np\n",
        "import pandas as pd\n",
        "import seaborn as sns\n",
        "import matplotlib.pyplot as plt"
      ]
    },
    {
      "cell_type": "code",
      "source": [
        "# Reading the dataset\n",
        "df = pd.read_excel('./Dry_Bean_Dataset.xlsx')"
      ],
      "metadata": {
        "id": "x5szRs72DZVR"
      },
      "execution_count": 528,
      "outputs": []
    },
    {
      "cell_type": "code",
      "source": [
        "df.shape"
      ],
      "metadata": {
        "id": "EtOttziYEw-R",
        "outputId": "f8f13b60-47ed-4a09-f753-570123703d3e",
        "colab": {
          "base_uri": "https://localhost:8080/"
        }
      },
      "execution_count": 529,
      "outputs": [
        {
          "output_type": "execute_result",
          "data": {
            "text/plain": [
              "(13611, 17)"
            ]
          },
          "metadata": {},
          "execution_count": 529
        }
      ]
    },
    {
      "cell_type": "code",
      "source": [
        "# Checking the dataset\n",
        "df.describe()"
      ],
      "metadata": {
        "id": "KfhL-U8TFLx2",
        "outputId": "ce5b0662-bb90-4a7e-8972-a8960088f737",
        "colab": {
          "base_uri": "https://localhost:8080/",
          "height": 364
        }
      },
      "execution_count": 530,
      "outputs": [
        {
          "output_type": "execute_result",
          "data": {
            "text/plain": [
              "                Area     Perimeter  MajorAxisLength  MinorAxisLength  \\\n",
              "count   13611.000000  13611.000000     13611.000000     13611.000000   \n",
              "mean    53048.284549    855.283459       320.141867       202.270714   \n",
              "std     29324.095717    214.289696        85.694186        44.970091   \n",
              "min     20420.000000    524.736000       183.601165       122.512653   \n",
              "25%     36328.000000    703.523500       253.303633       175.848170   \n",
              "50%     44652.000000    794.941000       296.883367       192.431733   \n",
              "75%     61332.000000    977.213000       376.495012       217.031741   \n",
              "max    254616.000000   1985.370000       738.860153       460.198497   \n",
              "\n",
              "       AspectRation  Eccentricity     ConvexArea  EquivDiameter        Extent  \\\n",
              "count  13611.000000  13611.000000   13611.000000   13611.000000  13611.000000   \n",
              "mean       1.583242      0.750895   53768.200206     253.064220      0.749733   \n",
              "std        0.246678      0.092002   29774.915817      59.177120      0.049086   \n",
              "min        1.024868      0.218951   20684.000000     161.243764      0.555315   \n",
              "25%        1.432307      0.715928   36714.500000     215.068003      0.718634   \n",
              "50%        1.551124      0.764441   45178.000000     238.438026      0.759859   \n",
              "75%        1.707109      0.810466   62294.000000     279.446467      0.786851   \n",
              "max        2.430306      0.911423  263261.000000     569.374358      0.866195   \n",
              "\n",
              "           Solidity     roundness   Compactness  ShapeFactor1  ShapeFactor2  \\\n",
              "count  13611.000000  13611.000000  13611.000000  13611.000000  13611.000000   \n",
              "mean       0.987143      0.873282      0.799864      0.006564      0.001716   \n",
              "std        0.004660      0.059520      0.061713      0.001128      0.000596   \n",
              "min        0.919246      0.489618      0.640577      0.002778      0.000564   \n",
              "25%        0.985670      0.832096      0.762469      0.005900      0.001154   \n",
              "50%        0.988283      0.883157      0.801277      0.006645      0.001694   \n",
              "75%        0.990013      0.916869      0.834270      0.007271      0.002170   \n",
              "max        0.994677      0.990685      0.987303      0.010451      0.003665   \n",
              "\n",
              "       ShapeFactor3  ShapeFactor4  \n",
              "count  13611.000000  13611.000000  \n",
              "mean       0.643590      0.995063  \n",
              "std        0.098996      0.004366  \n",
              "min        0.410339      0.947687  \n",
              "25%        0.581359      0.993703  \n",
              "50%        0.642044      0.996386  \n",
              "75%        0.696006      0.997883  \n",
              "max        0.974767      0.999733  "
            ],
            "text/html": [
              "\n",
              "  <div id=\"df-b0eb835a-b904-45b6-8000-759d8806e1cb\">\n",
              "    <div class=\"colab-df-container\">\n",
              "      <div>\n",
              "<style scoped>\n",
              "    .dataframe tbody tr th:only-of-type {\n",
              "        vertical-align: middle;\n",
              "    }\n",
              "\n",
              "    .dataframe tbody tr th {\n",
              "        vertical-align: top;\n",
              "    }\n",
              "\n",
              "    .dataframe thead th {\n",
              "        text-align: right;\n",
              "    }\n",
              "</style>\n",
              "<table border=\"1\" class=\"dataframe\">\n",
              "  <thead>\n",
              "    <tr style=\"text-align: right;\">\n",
              "      <th></th>\n",
              "      <th>Area</th>\n",
              "      <th>Perimeter</th>\n",
              "      <th>MajorAxisLength</th>\n",
              "      <th>MinorAxisLength</th>\n",
              "      <th>AspectRation</th>\n",
              "      <th>Eccentricity</th>\n",
              "      <th>ConvexArea</th>\n",
              "      <th>EquivDiameter</th>\n",
              "      <th>Extent</th>\n",
              "      <th>Solidity</th>\n",
              "      <th>roundness</th>\n",
              "      <th>Compactness</th>\n",
              "      <th>ShapeFactor1</th>\n",
              "      <th>ShapeFactor2</th>\n",
              "      <th>ShapeFactor3</th>\n",
              "      <th>ShapeFactor4</th>\n",
              "    </tr>\n",
              "  </thead>\n",
              "  <tbody>\n",
              "    <tr>\n",
              "      <th>count</th>\n",
              "      <td>13611.000000</td>\n",
              "      <td>13611.000000</td>\n",
              "      <td>13611.000000</td>\n",
              "      <td>13611.000000</td>\n",
              "      <td>13611.000000</td>\n",
              "      <td>13611.000000</td>\n",
              "      <td>13611.000000</td>\n",
              "      <td>13611.000000</td>\n",
              "      <td>13611.000000</td>\n",
              "      <td>13611.000000</td>\n",
              "      <td>13611.000000</td>\n",
              "      <td>13611.000000</td>\n",
              "      <td>13611.000000</td>\n",
              "      <td>13611.000000</td>\n",
              "      <td>13611.000000</td>\n",
              "      <td>13611.000000</td>\n",
              "    </tr>\n",
              "    <tr>\n",
              "      <th>mean</th>\n",
              "      <td>53048.284549</td>\n",
              "      <td>855.283459</td>\n",
              "      <td>320.141867</td>\n",
              "      <td>202.270714</td>\n",
              "      <td>1.583242</td>\n",
              "      <td>0.750895</td>\n",
              "      <td>53768.200206</td>\n",
              "      <td>253.064220</td>\n",
              "      <td>0.749733</td>\n",
              "      <td>0.987143</td>\n",
              "      <td>0.873282</td>\n",
              "      <td>0.799864</td>\n",
              "      <td>0.006564</td>\n",
              "      <td>0.001716</td>\n",
              "      <td>0.643590</td>\n",
              "      <td>0.995063</td>\n",
              "    </tr>\n",
              "    <tr>\n",
              "      <th>std</th>\n",
              "      <td>29324.095717</td>\n",
              "      <td>214.289696</td>\n",
              "      <td>85.694186</td>\n",
              "      <td>44.970091</td>\n",
              "      <td>0.246678</td>\n",
              "      <td>0.092002</td>\n",
              "      <td>29774.915817</td>\n",
              "      <td>59.177120</td>\n",
              "      <td>0.049086</td>\n",
              "      <td>0.004660</td>\n",
              "      <td>0.059520</td>\n",
              "      <td>0.061713</td>\n",
              "      <td>0.001128</td>\n",
              "      <td>0.000596</td>\n",
              "      <td>0.098996</td>\n",
              "      <td>0.004366</td>\n",
              "    </tr>\n",
              "    <tr>\n",
              "      <th>min</th>\n",
              "      <td>20420.000000</td>\n",
              "      <td>524.736000</td>\n",
              "      <td>183.601165</td>\n",
              "      <td>122.512653</td>\n",
              "      <td>1.024868</td>\n",
              "      <td>0.218951</td>\n",
              "      <td>20684.000000</td>\n",
              "      <td>161.243764</td>\n",
              "      <td>0.555315</td>\n",
              "      <td>0.919246</td>\n",
              "      <td>0.489618</td>\n",
              "      <td>0.640577</td>\n",
              "      <td>0.002778</td>\n",
              "      <td>0.000564</td>\n",
              "      <td>0.410339</td>\n",
              "      <td>0.947687</td>\n",
              "    </tr>\n",
              "    <tr>\n",
              "      <th>25%</th>\n",
              "      <td>36328.000000</td>\n",
              "      <td>703.523500</td>\n",
              "      <td>253.303633</td>\n",
              "      <td>175.848170</td>\n",
              "      <td>1.432307</td>\n",
              "      <td>0.715928</td>\n",
              "      <td>36714.500000</td>\n",
              "      <td>215.068003</td>\n",
              "      <td>0.718634</td>\n",
              "      <td>0.985670</td>\n",
              "      <td>0.832096</td>\n",
              "      <td>0.762469</td>\n",
              "      <td>0.005900</td>\n",
              "      <td>0.001154</td>\n",
              "      <td>0.581359</td>\n",
              "      <td>0.993703</td>\n",
              "    </tr>\n",
              "    <tr>\n",
              "      <th>50%</th>\n",
              "      <td>44652.000000</td>\n",
              "      <td>794.941000</td>\n",
              "      <td>296.883367</td>\n",
              "      <td>192.431733</td>\n",
              "      <td>1.551124</td>\n",
              "      <td>0.764441</td>\n",
              "      <td>45178.000000</td>\n",
              "      <td>238.438026</td>\n",
              "      <td>0.759859</td>\n",
              "      <td>0.988283</td>\n",
              "      <td>0.883157</td>\n",
              "      <td>0.801277</td>\n",
              "      <td>0.006645</td>\n",
              "      <td>0.001694</td>\n",
              "      <td>0.642044</td>\n",
              "      <td>0.996386</td>\n",
              "    </tr>\n",
              "    <tr>\n",
              "      <th>75%</th>\n",
              "      <td>61332.000000</td>\n",
              "      <td>977.213000</td>\n",
              "      <td>376.495012</td>\n",
              "      <td>217.031741</td>\n",
              "      <td>1.707109</td>\n",
              "      <td>0.810466</td>\n",
              "      <td>62294.000000</td>\n",
              "      <td>279.446467</td>\n",
              "      <td>0.786851</td>\n",
              "      <td>0.990013</td>\n",
              "      <td>0.916869</td>\n",
              "      <td>0.834270</td>\n",
              "      <td>0.007271</td>\n",
              "      <td>0.002170</td>\n",
              "      <td>0.696006</td>\n",
              "      <td>0.997883</td>\n",
              "    </tr>\n",
              "    <tr>\n",
              "      <th>max</th>\n",
              "      <td>254616.000000</td>\n",
              "      <td>1985.370000</td>\n",
              "      <td>738.860153</td>\n",
              "      <td>460.198497</td>\n",
              "      <td>2.430306</td>\n",
              "      <td>0.911423</td>\n",
              "      <td>263261.000000</td>\n",
              "      <td>569.374358</td>\n",
              "      <td>0.866195</td>\n",
              "      <td>0.994677</td>\n",
              "      <td>0.990685</td>\n",
              "      <td>0.987303</td>\n",
              "      <td>0.010451</td>\n",
              "      <td>0.003665</td>\n",
              "      <td>0.974767</td>\n",
              "      <td>0.999733</td>\n",
              "    </tr>\n",
              "  </tbody>\n",
              "</table>\n",
              "</div>\n",
              "      <button class=\"colab-df-convert\" onclick=\"convertToInteractive('df-b0eb835a-b904-45b6-8000-759d8806e1cb')\"\n",
              "              title=\"Convert this dataframe to an interactive table.\"\n",
              "              style=\"display:none;\">\n",
              "        \n",
              "  <svg xmlns=\"http://www.w3.org/2000/svg\" height=\"24px\"viewBox=\"0 0 24 24\"\n",
              "       width=\"24px\">\n",
              "    <path d=\"M0 0h24v24H0V0z\" fill=\"none\"/>\n",
              "    <path d=\"M18.56 5.44l.94 2.06.94-2.06 2.06-.94-2.06-.94-.94-2.06-.94 2.06-2.06.94zm-11 1L8.5 8.5l.94-2.06 2.06-.94-2.06-.94L8.5 2.5l-.94 2.06-2.06.94zm10 10l.94 2.06.94-2.06 2.06-.94-2.06-.94-.94-2.06-.94 2.06-2.06.94z\"/><path d=\"M17.41 7.96l-1.37-1.37c-.4-.4-.92-.59-1.43-.59-.52 0-1.04.2-1.43.59L10.3 9.45l-7.72 7.72c-.78.78-.78 2.05 0 2.83L4 21.41c.39.39.9.59 1.41.59.51 0 1.02-.2 1.41-.59l7.78-7.78 2.81-2.81c.8-.78.8-2.07 0-2.86zM5.41 20L4 18.59l7.72-7.72 1.47 1.35L5.41 20z\"/>\n",
              "  </svg>\n",
              "      </button>\n",
              "      \n",
              "  <style>\n",
              "    .colab-df-container {\n",
              "      display:flex;\n",
              "      flex-wrap:wrap;\n",
              "      gap: 12px;\n",
              "    }\n",
              "\n",
              "    .colab-df-convert {\n",
              "      background-color: #E8F0FE;\n",
              "      border: none;\n",
              "      border-radius: 50%;\n",
              "      cursor: pointer;\n",
              "      display: none;\n",
              "      fill: #1967D2;\n",
              "      height: 32px;\n",
              "      padding: 0 0 0 0;\n",
              "      width: 32px;\n",
              "    }\n",
              "\n",
              "    .colab-df-convert:hover {\n",
              "      background-color: #E2EBFA;\n",
              "      box-shadow: 0px 1px 2px rgba(60, 64, 67, 0.3), 0px 1px 3px 1px rgba(60, 64, 67, 0.15);\n",
              "      fill: #174EA6;\n",
              "    }\n",
              "\n",
              "    [theme=dark] .colab-df-convert {\n",
              "      background-color: #3B4455;\n",
              "      fill: #D2E3FC;\n",
              "    }\n",
              "\n",
              "    [theme=dark] .colab-df-convert:hover {\n",
              "      background-color: #434B5C;\n",
              "      box-shadow: 0px 1px 3px 1px rgba(0, 0, 0, 0.15);\n",
              "      filter: drop-shadow(0px 1px 2px rgba(0, 0, 0, 0.3));\n",
              "      fill: #FFFFFF;\n",
              "    }\n",
              "  </style>\n",
              "\n",
              "      <script>\n",
              "        const buttonEl =\n",
              "          document.querySelector('#df-b0eb835a-b904-45b6-8000-759d8806e1cb button.colab-df-convert');\n",
              "        buttonEl.style.display =\n",
              "          google.colab.kernel.accessAllowed ? 'block' : 'none';\n",
              "\n",
              "        async function convertToInteractive(key) {\n",
              "          const element = document.querySelector('#df-b0eb835a-b904-45b6-8000-759d8806e1cb');\n",
              "          const dataTable =\n",
              "            await google.colab.kernel.invokeFunction('convertToInteractive',\n",
              "                                                     [key], {});\n",
              "          if (!dataTable) return;\n",
              "\n",
              "          const docLinkHtml = 'Like what you see? Visit the ' +\n",
              "            '<a target=\"_blank\" href=https://colab.research.google.com/notebooks/data_table.ipynb>data table notebook</a>'\n",
              "            + ' to learn more about interactive tables.';\n",
              "          element.innerHTML = '';\n",
              "          dataTable['output_type'] = 'display_data';\n",
              "          await google.colab.output.renderOutput(dataTable, element);\n",
              "          const docLink = document.createElement('div');\n",
              "          docLink.innerHTML = docLinkHtml;\n",
              "          element.appendChild(docLink);\n",
              "        }\n",
              "      </script>\n",
              "    </div>\n",
              "  </div>\n",
              "  "
            ]
          },
          "metadata": {},
          "execution_count": 530
        }
      ]
    },
    {
      "cell_type": "code",
      "source": [
        "y = df['Class']\n",
        "df.drop(columns=['Class'], inplace=True)"
      ],
      "metadata": {
        "id": "QYu1Y7D_ZpJs"
      },
      "execution_count": 531,
      "outputs": []
    },
    {
      "cell_type": "markdown",
      "source": [
        "# Preprocessing"
      ],
      "metadata": {
        "id": "irU6xFv2H01S"
      }
    },
    {
      "cell_type": "markdown",
      "source": [
        "## Normalization"
      ],
      "metadata": {
        "id": "BAOOivttH3fv"
      }
    },
    {
      "cell_type": "code",
      "source": [
        "# Columns for normalization\n",
        "from sklearn.preprocessing import Normalizer\n",
        "\n",
        "normalizeFeatures = ['Area', 'Perimeter', 'MajorAxisLength', 'MinorAxisLength', 'AspectRation', 'ConvexArea', 'EquivDiameter']"
      ],
      "metadata": {
        "id": "4AOxYaZdHmZI"
      },
      "execution_count": 532,
      "outputs": []
    },
    {
      "cell_type": "markdown",
      "source": [
        "## Skewness"
      ],
      "metadata": {
        "id": "xMffMHHqIqJx"
      }
    },
    {
      "cell_type": "code",
      "source": [
        "df.skew()"
      ],
      "metadata": {
        "id": "qBjBPh6-IrY8",
        "outputId": "4d457822-9855-44a5-b79a-dd0f96b96d6c",
        "colab": {
          "base_uri": "https://localhost:8080/"
        }
      },
      "execution_count": 533,
      "outputs": [
        {
          "output_type": "execute_result",
          "data": {
            "text/plain": [
              "Area               2.952931\n",
              "Perimeter          1.626124\n",
              "MajorAxisLength    1.357815\n",
              "MinorAxisLength    2.238211\n",
              "AspectRation       0.582573\n",
              "Eccentricity      -1.062824\n",
              "ConvexArea         2.941821\n",
              "EquivDiameter      1.948958\n",
              "Extent            -0.895348\n",
              "Solidity          -2.550093\n",
              "roundness         -0.635749\n",
              "Compactness        0.037115\n",
              "ShapeFactor1      -0.534141\n",
              "ShapeFactor2       0.301226\n",
              "ShapeFactor3       0.242481\n",
              "ShapeFactor4      -2.759483\n",
              "dtype: float64"
            ]
          },
          "metadata": {},
          "execution_count": 533
        }
      ]
    },
    {
      "cell_type": "code",
      "source": [
        "from sklearn.pipeline import Pipeline\n",
        "from sklearn.compose import ColumnTransformer\n",
        "from sklearn.decomposition import PCA\n",
        "\n",
        "ct = ColumnTransformer([(\"norm\", Normalizer(norm='l1'), normalizeFeatures)])\n",
        "\n",
        "pipe = Pipeline([('normalization', ct), ('pca', PCA())])"
      ],
      "metadata": {
        "id": "9AUoDmwTI0F_"
      },
      "execution_count": 534,
      "outputs": []
    },
    {
      "cell_type": "code",
      "source": [
        "X = pipe.fit_transform(df)"
      ],
      "metadata": {
        "id": "4g_HgTAqWemN"
      },
      "execution_count": 535,
      "outputs": []
    },
    {
      "cell_type": "code",
      "source": [
        "# Label Encoding the output variable\n",
        "from sklearn.preprocessing import LabelEncoder\n",
        "\n",
        "y = LabelEncoder().fit_transform(y)"
      ],
      "metadata": {
        "id": "By-gjs3XavoJ"
      },
      "execution_count": 536,
      "outputs": []
    },
    {
      "cell_type": "code",
      "source": [
        "X.shape"
      ],
      "metadata": {
        "id": "pYg6T4qmh1XB",
        "outputId": "02ca0d12-5d67-491d-8207-e5dd1bb7ddba",
        "colab": {
          "base_uri": "https://localhost:8080/"
        }
      },
      "execution_count": 537,
      "outputs": [
        {
          "output_type": "execute_result",
          "data": {
            "text/plain": [
              "(13611, 7)"
            ]
          },
          "metadata": {},
          "execution_count": 537
        }
      ]
    },
    {
      "cell_type": "markdown",
      "source": [
        "# Training Model"
      ],
      "metadata": {
        "id": "CLfGgxh6iEYo"
      }
    },
    {
      "cell_type": "code",
      "source": [
        "# Defining function to get the data of particular class\n",
        "\n",
        "def getClassData(cls, dataframe, y):\n",
        "  # print('Given class', dataframe)\n",
        "  # Getting the indexes for specific class\n",
        "  indexes = np.where(y == cls)\n",
        "  # print(\"Indexes\", indexes)\n",
        "  return dataframe[indexes]"
      ],
      "metadata": {
        "id": "JNSkJ7R-RcfD"
      },
      "execution_count": 538,
      "outputs": []
    },
    {
      "cell_type": "code",
      "source": [
        "import scikitplot as skplt\n",
        "from sklearn.model_selection import KFold, StratifiedKFold\n",
        "from sklearn.preprocessing import label_binarize\n",
        "from sklearn.metrics import roc_curve, auc, roc_auc_score, multilabel_confusion_matrix, accuracy_score\n",
        "from hmmlearn import hmm\n",
        "\n",
        "from itertools import cycle\n",
        "\n",
        "# Sequentia\n",
        "from sequentia.classifiers import GMMHMM, HMMClassifier\n",
        "\n",
        "skf = StratifiedKFold(n_splits=2)\n",
        "\n",
        "fold = 0\n",
        "\n",
        "actual_classes = list()\n",
        "predicted_classes = list()\n",
        "\n",
        "for train_index, test_index in skf.split(X, y):\n",
        "  fold += 1\n",
        "  X_train, X_test = X[train_index], X[test_index]\n",
        "  y_train, y_test = y[train_index], y[test_index]\n",
        "\n",
        "  # Handling classifiers for each classes\n",
        "  hmms = list()\n",
        "  for classIndex in range(7):\n",
        "    classValues_train = getClassData(classIndex, X_train, y_train)\n",
        "    # print(\"classValues\", classValues_train)\n",
        "    model = hmm.GaussianHMM(n_components=3, covariance_type=\"full\")\n",
        "    model.fit(classValues_train)\n",
        "    proba = model.predict(X_test)\n",
        "    print(\"Xtrain\", X_test[0])\n",
        "    print(\"probability is\", proba)"
      ],
      "metadata": {
        "id": "HENRQqwO_sPI",
        "colab": {
          "base_uri": "https://localhost:8080/"
        },
        "outputId": "e3388190-05a3-4da7-c6b7-46e677c26df2"
      },
      "execution_count": 539,
      "outputs": [
        {
          "output_type": "stream",
          "name": "stdout",
          "text": [
            "Xtrain [-3.53112448e-03  1.03124442e-04  4.72785555e-04 -1.62106582e-05\n",
            "  1.66227273e-05  3.82456331e-07 -4.48186806e-17]\n",
            "probability is [2 2 2 ... 2 2 2]\n",
            "Xtrain [-3.53112448e-03  1.03124442e-04  4.72785555e-04 -1.62106582e-05\n",
            "  1.66227273e-05  3.82456331e-07 -4.48186806e-17]\n",
            "probability is [1 1 1 ... 1 1 1]\n",
            "Xtrain [-3.53112448e-03  1.03124442e-04  4.72785555e-04 -1.62106582e-05\n",
            "  1.66227273e-05  3.82456331e-07 -4.48186806e-17]\n",
            "probability is [1 1 1 ... 1 1 1]\n",
            "Xtrain [-3.53112448e-03  1.03124442e-04  4.72785555e-04 -1.62106582e-05\n",
            "  1.66227273e-05  3.82456331e-07 -4.48186806e-17]\n",
            "probability is [1 1 1 ... 0 0 0]\n",
            "Xtrain [-3.53112448e-03  1.03124442e-04  4.72785555e-04 -1.62106582e-05\n",
            "  1.66227273e-05  3.82456331e-07 -4.48186806e-17]\n",
            "probability is [1 1 1 ... 1 1 1]\n",
            "Xtrain [-3.53112448e-03  1.03124442e-04  4.72785555e-04 -1.62106582e-05\n",
            "  1.66227273e-05  3.82456331e-07 -4.48186806e-17]\n",
            "probability is [2 1 1 ... 1 1 1]\n",
            "Xtrain [-3.53112448e-03  1.03124442e-04  4.72785555e-04 -1.62106582e-05\n",
            "  1.66227273e-05  3.82456331e-07 -4.48186806e-17]\n",
            "probability is [2 2 2 ... 2 2 2]\n",
            "Xtrain [-1.05641172e-03 -9.29073322e-04  2.86882788e-04 -1.87762431e-05\n",
            "  3.47014813e-06 -4.23092403e-07 -3.04101069e-18]\n",
            "probability is [2 2 2 ... 2 2 2]\n",
            "Xtrain [-1.05641172e-03 -9.29073322e-04  2.86882788e-04 -1.87762431e-05\n",
            "  3.47014813e-06 -4.23092403e-07 -3.04101069e-18]\n",
            "probability is [1 1 1 ... 1 1 1]\n",
            "Xtrain [-1.05641172e-03 -9.29073322e-04  2.86882788e-04 -1.87762431e-05\n",
            "  3.47014813e-06 -4.23092403e-07 -3.04101069e-18]\n",
            "probability is [1 1 1 ... 1 1 1]\n",
            "Xtrain [-1.05641172e-03 -9.29073322e-04  2.86882788e-04 -1.87762431e-05\n",
            "  3.47014813e-06 -4.23092403e-07 -3.04101069e-18]\n",
            "probability is [2 2 2 ... 2 2 2]\n",
            "Xtrain [-1.05641172e-03 -9.29073322e-04  2.86882788e-04 -1.87762431e-05\n",
            "  3.47014813e-06 -4.23092403e-07 -3.04101069e-18]\n",
            "probability is [2 2 2 ... 2 2 2]\n",
            "Xtrain [-1.05641172e-03 -9.29073322e-04  2.86882788e-04 -1.87762431e-05\n",
            "  3.47014813e-06 -4.23092403e-07 -3.04101069e-18]\n",
            "probability is [1 2 0 ... 1 1 1]\n",
            "Xtrain [-1.05641172e-03 -9.29073322e-04  2.86882788e-04 -1.87762431e-05\n",
            "  3.47014813e-06 -4.23092403e-07 -3.04101069e-18]\n",
            "probability is [1 1 1 ... 2 2 2]\n"
          ]
        }
      ]
    },
    {
      "cell_type": "code",
      "source": [
        ""
      ],
      "metadata": {
        "id": "FSbNK6-jSEQP"
      },
      "execution_count": 539,
      "outputs": []
    }
  ]
}